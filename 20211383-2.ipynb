{
  "nbformat": 4,
  "nbformat_minor": 0,
  "metadata": {
    "colab": {
      "provenance": []
    },
    "kernelspec": {
      "name": "python3",
      "display_name": "Python 3"
    },
    "language_info": {
      "name": "python"
    }
  },
  "cells": [
    {
      "cell_type": "markdown",
      "source": [
        "# 3. 생일 데이터를 heap.py를 이용해 힙으로 저장 후 생일이 느린 순서로 10명의 친구를 출력하는 코드를 작성."
      ],
      "metadata": {
        "id": "xgBovqG0ifZC"
      }
    },
    {
      "cell_type": "code",
      "source": [
        "from google.colab import files\n",
        "uploaded = files.upload()\n",
        "df = pd.read_csv(\"birthday.csv\")\n"
      ],
      "metadata": {
        "colab": {
          "base_uri": "https://localhost:8080/",
          "height": 69
        },
        "id": "rXp0v2MjlYcP",
        "outputId": "a90d04a3-124b-47a7-c471-d89614d5a18f"
      },
      "execution_count": 17,
      "outputs": [
        {
          "output_type": "display_data",
          "data": {
            "text/plain": [
              "<IPython.core.display.HTML object>"
            ],
            "text/html": [
              "\n",
              "     <input type=\"file\" id=\"files-12e054e1-f68e-45c8-b678-eab28d264a83\" name=\"files[]\" multiple disabled\n",
              "        style=\"border:none\" />\n",
              "     <output id=\"result-12e054e1-f68e-45c8-b678-eab28d264a83\">\n",
              "      Upload widget is only available when the cell has been executed in the\n",
              "      current browser session. Please rerun this cell to enable.\n",
              "      </output>\n",
              "      <script>// Copyright 2017 Google LLC\n",
              "//\n",
              "// Licensed under the Apache License, Version 2.0 (the \"License\");\n",
              "// you may not use this file except in compliance with the License.\n",
              "// You may obtain a copy of the License at\n",
              "//\n",
              "//      http://www.apache.org/licenses/LICENSE-2.0\n",
              "//\n",
              "// Unless required by applicable law or agreed to in writing, software\n",
              "// distributed under the License is distributed on an \"AS IS\" BASIS,\n",
              "// WITHOUT WARRANTIES OR CONDITIONS OF ANY KIND, either express or implied.\n",
              "// See the License for the specific language governing permissions and\n",
              "// limitations under the License.\n",
              "\n",
              "/**\n",
              " * @fileoverview Helpers for google.colab Python module.\n",
              " */\n",
              "(function(scope) {\n",
              "function span(text, styleAttributes = {}) {\n",
              "  const element = document.createElement('span');\n",
              "  element.textContent = text;\n",
              "  for (const key of Object.keys(styleAttributes)) {\n",
              "    element.style[key] = styleAttributes[key];\n",
              "  }\n",
              "  return element;\n",
              "}\n",
              "\n",
              "// Max number of bytes which will be uploaded at a time.\n",
              "const MAX_PAYLOAD_SIZE = 100 * 1024;\n",
              "\n",
              "function _uploadFiles(inputId, outputId) {\n",
              "  const steps = uploadFilesStep(inputId, outputId);\n",
              "  const outputElement = document.getElementById(outputId);\n",
              "  // Cache steps on the outputElement to make it available for the next call\n",
              "  // to uploadFilesContinue from Python.\n",
              "  outputElement.steps = steps;\n",
              "\n",
              "  return _uploadFilesContinue(outputId);\n",
              "}\n",
              "\n",
              "// This is roughly an async generator (not supported in the browser yet),\n",
              "// where there are multiple asynchronous steps and the Python side is going\n",
              "// to poll for completion of each step.\n",
              "// This uses a Promise to block the python side on completion of each step,\n",
              "// then passes the result of the previous step as the input to the next step.\n",
              "function _uploadFilesContinue(outputId) {\n",
              "  const outputElement = document.getElementById(outputId);\n",
              "  const steps = outputElement.steps;\n",
              "\n",
              "  const next = steps.next(outputElement.lastPromiseValue);\n",
              "  return Promise.resolve(next.value.promise).then((value) => {\n",
              "    // Cache the last promise value to make it available to the next\n",
              "    // step of the generator.\n",
              "    outputElement.lastPromiseValue = value;\n",
              "    return next.value.response;\n",
              "  });\n",
              "}\n",
              "\n",
              "/**\n",
              " * Generator function which is called between each async step of the upload\n",
              " * process.\n",
              " * @param {string} inputId Element ID of the input file picker element.\n",
              " * @param {string} outputId Element ID of the output display.\n",
              " * @return {!Iterable<!Object>} Iterable of next steps.\n",
              " */\n",
              "function* uploadFilesStep(inputId, outputId) {\n",
              "  const inputElement = document.getElementById(inputId);\n",
              "  inputElement.disabled = false;\n",
              "\n",
              "  const outputElement = document.getElementById(outputId);\n",
              "  outputElement.innerHTML = '';\n",
              "\n",
              "  const pickedPromise = new Promise((resolve) => {\n",
              "    inputElement.addEventListener('change', (e) => {\n",
              "      resolve(e.target.files);\n",
              "    });\n",
              "  });\n",
              "\n",
              "  const cancel = document.createElement('button');\n",
              "  inputElement.parentElement.appendChild(cancel);\n",
              "  cancel.textContent = 'Cancel upload';\n",
              "  const cancelPromise = new Promise((resolve) => {\n",
              "    cancel.onclick = () => {\n",
              "      resolve(null);\n",
              "    };\n",
              "  });\n",
              "\n",
              "  // Wait for the user to pick the files.\n",
              "  const files = yield {\n",
              "    promise: Promise.race([pickedPromise, cancelPromise]),\n",
              "    response: {\n",
              "      action: 'starting',\n",
              "    }\n",
              "  };\n",
              "\n",
              "  cancel.remove();\n",
              "\n",
              "  // Disable the input element since further picks are not allowed.\n",
              "  inputElement.disabled = true;\n",
              "\n",
              "  if (!files) {\n",
              "    return {\n",
              "      response: {\n",
              "        action: 'complete',\n",
              "      }\n",
              "    };\n",
              "  }\n",
              "\n",
              "  for (const file of files) {\n",
              "    const li = document.createElement('li');\n",
              "    li.append(span(file.name, {fontWeight: 'bold'}));\n",
              "    li.append(span(\n",
              "        `(${file.type || 'n/a'}) - ${file.size} bytes, ` +\n",
              "        `last modified: ${\n",
              "            file.lastModifiedDate ? file.lastModifiedDate.toLocaleDateString() :\n",
              "                                    'n/a'} - `));\n",
              "    const percent = span('0% done');\n",
              "    li.appendChild(percent);\n",
              "\n",
              "    outputElement.appendChild(li);\n",
              "\n",
              "    const fileDataPromise = new Promise((resolve) => {\n",
              "      const reader = new FileReader();\n",
              "      reader.onload = (e) => {\n",
              "        resolve(e.target.result);\n",
              "      };\n",
              "      reader.readAsArrayBuffer(file);\n",
              "    });\n",
              "    // Wait for the data to be ready.\n",
              "    let fileData = yield {\n",
              "      promise: fileDataPromise,\n",
              "      response: {\n",
              "        action: 'continue',\n",
              "      }\n",
              "    };\n",
              "\n",
              "    // Use a chunked sending to avoid message size limits. See b/62115660.\n",
              "    let position = 0;\n",
              "    do {\n",
              "      const length = Math.min(fileData.byteLength - position, MAX_PAYLOAD_SIZE);\n",
              "      const chunk = new Uint8Array(fileData, position, length);\n",
              "      position += length;\n",
              "\n",
              "      const base64 = btoa(String.fromCharCode.apply(null, chunk));\n",
              "      yield {\n",
              "        response: {\n",
              "          action: 'append',\n",
              "          file: file.name,\n",
              "          data: base64,\n",
              "        },\n",
              "      };\n",
              "\n",
              "      let percentDone = fileData.byteLength === 0 ?\n",
              "          100 :\n",
              "          Math.round((position / fileData.byteLength) * 100);\n",
              "      percent.textContent = `${percentDone}% done`;\n",
              "\n",
              "    } while (position < fileData.byteLength);\n",
              "  }\n",
              "\n",
              "  // All done.\n",
              "  yield {\n",
              "    response: {\n",
              "      action: 'complete',\n",
              "    }\n",
              "  };\n",
              "}\n",
              "\n",
              "scope.google = scope.google || {};\n",
              "scope.google.colab = scope.google.colab || {};\n",
              "scope.google.colab._files = {\n",
              "  _uploadFiles,\n",
              "  _uploadFilesContinue,\n",
              "};\n",
              "})(self);\n",
              "</script> "
            ]
          },
          "metadata": {}
        },
        {
          "output_type": "stream",
          "name": "stdout",
          "text": [
            "Saving birthday.csv to birthday.csv\n"
          ]
        }
      ]
    },
    {
      "cell_type": "code",
      "execution_count": 25,
      "metadata": {
        "colab": {
          "base_uri": "https://localhost:8080/"
        },
        "id": "uUyRb-_zeyTm",
        "outputId": "c6310ac2-f269-450a-fbd6-3f478c76f5b9"
      },
      "outputs": [
        {
          "output_type": "stream",
          "name": "stdout",
          "text": [
            "홍서연 - 20241282\n",
            "신수민 - 20051230\n",
            "이서영 - 20051225\n",
            "강민주 - 20051214\n",
            "김민경 - 20051202\n",
            "이서영 - 20051112\n",
            "배시은 - 20051102\n",
            "김여원 - 20051031\n",
            "이서진 - 20051028\n",
            "서홍빈 - 20051024\n"
          ]
        }
      ],
      "source": [
        "import heapq\n",
        "import pandas as pd\n",
        "\n",
        "# 데이터 불러오기\n",
        "df.columns = ['학번', '이름', '생년월일']\n",
        "df = df.dropna(subset=['생년월일'])  # 결측치 제거\n",
        "df['생년월일'] = df['생년월일'].astype(str).str.replace('.0', '', regex=False)\n",
        "\n",
        "# 최대 힙으로 저장\n",
        "heap = []\n",
        "for _, row in df.iterrows():\n",
        "    birthday = int(row['생년월일'])\n",
        "    heapq.heappush(heap, (-birthday, row['이름'], birthday))\n",
        "\n",
        "# 생일이 가장 늦은 10명 출력\n",
        "for _ in range(min(10, len(heap))):\n",
        "    _, name, birthday = heapq.heappop(heap)\n",
        "    print(f\"{name} - {birthday}\")\n"
      ]
    },
    {
      "cell_type": "markdown",
      "source": [
        "## 4. 생일 데이터를 circularDoublyLinkedList.py를 이용해 리스트로 저장 후 같은 조의 친구들만 이름과 생년월일을 출력하는 코드를 작성"
      ],
      "metadata": {
        "id": "vEsL_gHki7SD"
      }
    },
    {
      "cell_type": "code",
      "source": [
        "import pandas as pd\n",
        "\n",
        "# 같은 조 친구 이름 목록\n",
        "same_team_names = [\n",
        "    '이우정', '김혜정', '김정민', '남궁수아', '송윤경', '신다연', '신지예', '정세원', '최지안'\n",
        "]\n",
        "\n",
        "# 데이터 불러오기\n",
        "df = pd.read_csv(\"birthday.csv\")\n",
        "df.columns = ['학번', '이름', '생년월일']\n",
        "df = df.dropna(subset=['생년월일'])\n",
        "df['생년월일'] = df['생년월일'].astype(str).str.replace('.0', '', regex=False)\n",
        "\n",
        "# 원형 이중 연결 리스트 클래스 정의\n",
        "class Node:\n",
        "    def __init__(self, name, birthday):\n",
        "        self.name = name\n",
        "        self.birthday = birthday\n",
        "        self.prev = self\n",
        "        self.next = self\n",
        "\n",
        "class CircularDoublyLinkedList:\n",
        "    def __init__(self):\n",
        "        self.head = None\n",
        "\n",
        "    def append(self, name, birthday):\n",
        "        new_node = Node(name, birthday)\n",
        "        if not self.head:\n",
        "            self.head = new_node\n",
        "        else:\n",
        "            tail = self.head.prev\n",
        "            tail.next = new_node\n",
        "            new_node.prev = tail\n",
        "            new_node.next = self.head\n",
        "            self.head.prev = new_node\n",
        "\n",
        "    def get_team_members(self, team_names):\n",
        "        result = []\n",
        "        if not self.head:\n",
        "            return result\n",
        "        current = self.head\n",
        "        while True:\n",
        "            if current.name in team_names:\n",
        "                result.append((current.name, current.birthday))\n",
        "            current = current.next\n",
        "            if current == self.head:\n",
        "                break\n",
        "        return result\n",
        "\n",
        "# 연결 리스트 구성\n",
        "cdll = CircularDoublyLinkedList()\n",
        "for _, row in df.iterrows():\n",
        "    cdll.append(row['이름'], row['생년월일'])\n",
        "\n",
        "# 같은 조 친구들 출력\n",
        "team_members = cdll.get_team_members(same_team_names)\n",
        "for name, birthday in team_members:\n",
        "    print(f\"{name} - {birthday}\")\n"
      ],
      "metadata": {
        "colab": {
          "base_uri": "https://localhost:8080/"
        },
        "id": "8ZOaMN9-kJba",
        "outputId": "69a34485-c70e-4eea-f1d2-9eb5e0d068d5"
      },
      "execution_count": 24,
      "outputs": [
        {
          "output_type": "stream",
          "name": "stdout",
          "text": [
            "김정민 - 20050422\n",
            "김혜정 - 20050501\n",
            "남궁수아 - 20050325\n",
            "신다연 - 20041206\n",
            "신지예 - 20040707\n",
            "이우정 - 20020324\n",
            "정세원 - 20041121\n"
          ]
        }
      ]
    },
    {
      "cell_type": "markdown",
      "source": [
        "# 5. 교재 8장 우선 순위 큐 연습문제"
      ],
      "metadata": {
        "id": "0SLLsmZsjKPx"
      }
    },
    {
      "cell_type": "markdown",
      "source": [
        "5.1.\n",
        "\n",
        "답) 있음.\n",
        "\n",
        "최대 힙은 부모 ≥ 자식 규칙만 지키면 되므로, 깊이가 얕은 노드가 더 깊은 노드보다 작을 수 있음. 예를 들어 형제 노드나 다른 서브트리의 노드는 크기 비교 대상이 아니기 때문"
      ],
      "metadata": {
        "id": "FGzvFFnNn79m"
      }
    },
    {
      "cell_type": "markdown",
      "source": [
        "5.2.\n",
        "\n",
        "답) 아님.\n",
        "마지막 원소 A[n-1]은 단순히 배열상 마지막에 위치한 리프 노드일 뿐, 전체 원소 중에서 가장 작은 값을 가진다는 보장은 없음."
      ],
      "metadata": {
        "id": "P0WEpdppop_S"
      }
    },
    {
      "cell_type": "markdown",
      "source": [
        "5.3.\n",
        "\n",
        "답) ⌈n/2⌉ 개\n",
        "\n",
        "리프 노드는 인덱스 기준으로 ⌊n/2⌋ 이상이므로, 스며내리기(Heapify)를 하지 않음. 즉, n - ⌊n/2⌋ ≈ ⌈n/2⌉개의 노드는 건너뜀."
      ],
      "metadata": {
        "id": "Qx3erso_oyVp"
      }
    },
    {
      "cell_type": "markdown",
      "source": [
        "5.4.\n",
        "\n",
        "답) Θ(n)\n",
        "\n",
        "힙의 높이에 따라 각 노드가 스며내리는 최대 깊이는 log n이지만, 전체 buildHeap은 각 노드의 깊이를 고려해 계산하면 선형 시간 Θ(n)."
      ],
      "metadata": {
        "id": "4PaHGCt7o8GZ"
      }
    },
    {
      "cell_type": "markdown",
      "source": [
        "5.5.\n",
        "\n",
        "답) 그렇다, 간단함.\n",
        "\n",
        "배열의 마지막 원소를 제거하는 것은 단순한 pop() 연산으로 힙 속성 유지 필요 없으므로 추가 연산 없이 수행 가능함.\n",
        "\n"
      ],
      "metadata": {
        "id": "qyTabiPFpCGP"
      }
    },
    {
      "cell_type": "markdown",
      "source": [
        "5.6.\n",
        "\n",
        "답) 힙은 만들어짐. 효율적임\n",
        "\n",
        "스며올리기를 반복하면 각 노드가 제자리를 찾아감.하지만 시간복잡도는 O(n log n)\n",
        "반면, buildHeap의 스며내리기 방식은 O(n) 이므로 더 효율적임.\n",
        "\n"
      ],
      "metadata": {
        "id": "zXPHZRr-pOqi"
      }
    },
    {
      "cell_type": "markdown",
      "source": [
        "5.7.\n",
        "\n",
        "답)\n",
        "\n",
        "1. 해당 원소의 값을 증가시.\n",
        "\n",
        "2. 부모 노드와 비교하여 부모보다 크면 swap (스며올리기) 함.\n",
        "\n",
        "3. 이 과정을 루트까지 반복함.\n",
        "\n",
        "4. 최대 O(log n) 번 비교로 힙 속성 유지 가능.\n",
        "\n"
      ],
      "metadata": {
        "id": "zSdgFPihpfHK"
      }
    },
    {
      "cell_type": "markdown",
      "source": [
        "# LeetCode 703.Kth Largest Element in Stream"
      ],
      "metadata": {
        "id": "0HA78OVnjRiZ"
      }
    },
    {
      "cell_type": "code",
      "source": [
        "import heapq\n",
        "\n",
        "class KthLargest:\n",
        "    def __init__(self, k: int, nums: list[int]):\n",
        "        self.k = k\n",
        "        self.min_heap = nums\n",
        "        heapq.heapify(self.min_heap)  # 최소 힙 구조로 변환\n",
        "\n",
        "        # k개만 유지 (나머지는 제거)\n",
        "        while len(self.min_heap) > k:\n",
        "            heapq.heappop(self.min_heap)\n",
        "\n",
        "    def add(self, val: int) -> int:\n",
        "        heapq.heappush(self.min_heap, val)\n",
        "        if len(self.min_heap) > self.k:\n",
        "            heapq.heappop(self.min_heap)\n",
        "        return self.min_heap[0]\n"
      ],
      "metadata": {
        "id": "-l_aPHEGj7IK"
      },
      "execution_count": 26,
      "outputs": []
    }
  ]
}